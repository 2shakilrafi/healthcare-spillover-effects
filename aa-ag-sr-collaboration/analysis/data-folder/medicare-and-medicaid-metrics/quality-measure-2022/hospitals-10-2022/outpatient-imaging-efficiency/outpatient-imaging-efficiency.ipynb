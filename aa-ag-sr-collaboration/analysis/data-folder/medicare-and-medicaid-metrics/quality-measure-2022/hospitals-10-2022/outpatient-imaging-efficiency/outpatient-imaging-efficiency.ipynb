{
 "cells": [
  {
   "cell_type": "code",
   "execution_count": null,
   "id": "06f0cdd4",
   "metadata": {},
   "outputs": [],
   "source": [
    "import pandas as pd\n",
    "\n",
    "data = pd.read_csv(\"ou \")"
   ]
  }
 ],
 "metadata": {
  "language_info": {
   "name": "python"
  }
 },
 "nbformat": 4,
 "nbformat_minor": 5
}
